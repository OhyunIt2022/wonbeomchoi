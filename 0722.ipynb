{
  "nbformat": 4,
  "nbformat_minor": 0,
  "metadata": {
    "colab": {
      "name": "0722.ipynb",
      "provenance": []
    },
    "kernelspec": {
      "name": "python3",
      "display_name": "Python 3"
    },
    "language_info": {
      "name": "python"
    }
  },
  "cells": [
    {
      "cell_type": "code",
      "execution_count": null,
      "metadata": {
        "id": "RKWgE3Wch7NQ",
        "colab": {
          "base_uri": "https://localhost:8080/"
        },
        "outputId": "15dcfd9b-8b85-4396-d4d9-20a2511977ef"
      },
      "outputs": [
        {
          "output_type": "stream",
          "name": "stdout",
          "text": [
            "Hello world!\n"
          ]
        }
      ],
      "source": [
        "print(\"Hello world!\")"
      ]
    },
    {
      "cell_type": "code",
      "source": [
        "print(1)"
      ],
      "metadata": {
        "colab": {
          "base_uri": "https://localhost:8080/"
        },
        "id": "5_De5m1HipgK",
        "outputId": "d3551609-d456-4c57-c8bf-fd265b43a0e5"
      },
      "execution_count": null,
      "outputs": [
        {
          "output_type": "stream",
          "name": "stdout",
          "text": [
            "1\n"
          ]
        }
      ]
    },
    {
      "cell_type": "code",
      "source": [
        "print(10)"
      ],
      "metadata": {
        "colab": {
          "base_uri": "https://localhost:8080/"
        },
        "id": "7ZwtcYrGjH1-",
        "outputId": "3931f7c0-4848-4822-afa0-64feca64b668"
      },
      "execution_count": null,
      "outputs": [
        {
          "output_type": "stream",
          "name": "stdout",
          "text": [
            "10\n"
          ]
        }
      ]
    },
    {
      "cell_type": "code",
      "source": [
        "print(10.2)"
      ],
      "metadata": {
        "colab": {
          "base_uri": "https://localhost:8080/"
        },
        "id": "K1c1YqkAjI8J",
        "outputId": "02c4f512-3cde-426c-c2a6-1de3dcfb1afb"
      },
      "execution_count": null,
      "outputs": [
        {
          "output_type": "stream",
          "name": "stdout",
          "text": [
            "10.2\n"
          ]
        }
      ]
    },
    {
      "cell_type": "code",
      "source": [
        "문자 = \"안녕하세요\"\n",
        "문자 += \"1212\""
      ],
      "metadata": {
        "id": "mqof8zedkIQN"
      },
      "execution_count": null,
      "outputs": []
    },
    {
      "cell_type": "code",
      "source": [
        "print(문자)"
      ],
      "metadata": {
        "colab": {
          "base_uri": "https://localhost:8080/"
        },
        "id": "c7rL-pb9jKUi",
        "outputId": "41ff2b2d-703a-433b-b855-2e9867ba3881"
      },
      "execution_count": null,
      "outputs": [
        {
          "output_type": "stream",
          "name": "stdout",
          "text": [
            "안녕하세요1212\n"
          ]
        }
      ]
    },
    {
      "cell_type": "markdown",
      "source": [
        "# 이스케이프 문자"
      ],
      "metadata": {
        "id": "J2PCr74SmVTk"
      }
    },
    {
      "cell_type": "code",
      "source": [
        "print(\"\\\"\")"
      ],
      "metadata": {
        "colab": {
          "base_uri": "https://localhost:8080/"
        },
        "id": "PR71YGipkQp7",
        "outputId": "5a40a2b2-60b0-4b12-c9fb-0adb049fadb0"
      },
      "execution_count": null,
      "outputs": [
        {
          "output_type": "stream",
          "name": "stdout",
          "text": [
            "\"\n"
          ]
        }
      ]
    },
    {
      "cell_type": "code",
      "source": [
        "print(\"안녕하세요\\b\")# \\b 는 백스페이스"
      ],
      "metadata": {
        "colab": {
          "base_uri": "https://localhost:8080/"
        },
        "id": "6xJPyhFdmhg3",
        "outputId": "fe493b47-413f-42e2-d37e-43f44f33b52b"
      },
      "execution_count": null,
      "outputs": [
        {
          "output_type": "stream",
          "name": "stdout",
          "text": [
            "안녕하세요\b\n"
          ]
        }
      ]
    },
    {
      "cell_type": "code",
      "source": [
        "print(\"안녕하\\n세요\")# \\n 은 줄바꿈"
      ],
      "metadata": {
        "colab": {
          "base_uri": "https://localhost:8080/"
        },
        "id": "YNjbqM-hm5BS",
        "outputId": "ff503522-dd9d-4f85-d28a-efb9199ae72a"
      },
      "execution_count": null,
      "outputs": [
        {
          "output_type": "stream",
          "name": "stdout",
          "text": [
            "안녕하\n",
            "세요\n"
          ]
        }
      ]
    },
    {
      "cell_type": "code",
      "source": [
        "print(\"안녕하\\t세요\")# \\t는 탭"
      ],
      "metadata": {
        "colab": {
          "base_uri": "https://localhost:8080/"
        },
        "id": "QDQBVU6-nR7D",
        "outputId": "db117362-2bb1-45fd-f259-eb4576e6d049"
      },
      "execution_count": null,
      "outputs": [
        {
          "output_type": "stream",
          "name": "stdout",
          "text": [
            "안녕하\t세요\n"
          ]
        }
      ]
    },
    {
      "cell_type": "code",
      "source": [
        "print(\"안녕하\\\\세요\")# \\\\ \\문자 적어주기"
      ],
      "metadata": {
        "colab": {
          "base_uri": "https://localhost:8080/"
        },
        "id": "aMfvC9mknZMR",
        "outputId": "42713d19-c586-4d91-a6f6-aa585bc494b8"
      },
      "execution_count": null,
      "outputs": [
        {
          "output_type": "stream",
          "name": "stdout",
          "text": [
            "안녕하\\세요\n"
          ]
        }
      ]
    },
    {
      "cell_type": "code",
      "source": [
        "print(\"\\\" \\'\") # \\\" 이건 쌍따옴표, \\' 이건 따옴표"
      ],
      "metadata": {
        "colab": {
          "base_uri": "https://localhost:8080/"
        },
        "id": "k0-JrFFlnkyR",
        "outputId": "446c6491-3d8e-4cc6-9476-57c3d00d5dbe"
      },
      "execution_count": null,
      "outputs": [
        {
          "output_type": "stream",
          "name": "stdout",
          "text": [
            "\" '\n"
          ]
        }
      ]
    },
    {
      "cell_type": "markdown",
      "source": [
        "\\\\\"('.')\"/"
      ],
      "metadata": {
        "id": "sQfJyByAnzHJ"
      }
    },
    {
      "cell_type": "code",
      "source": [
        "print(\"\\\\\\\"(\\'.\\')\\\"/\")"
      ],
      "metadata": {
        "colab": {
          "base_uri": "https://localhost:8080/"
        },
        "id": "z5zDgx15nwmd",
        "outputId": "65d0b12f-729e-4b95-d013-13ccf9904f64"
      },
      "execution_count": null,
      "outputs": [
        {
          "output_type": "stream",
          "name": "stdout",
          "text": [
            "\\\"('.')\"/\n"
          ]
        }
      ]
    },
    {
      "cell_type": "code",
      "source": [
        "print(\"데이터1\",\"데이터2\",\"데이터3\")"
      ],
      "metadata": {
        "colab": {
          "base_uri": "https://localhost:8080/"
        },
        "id": "chtCdhCUpLLo",
        "outputId": "155f953a-0a39-497e-d8c9-533eb7b31ed9"
      },
      "execution_count": null,
      "outputs": [
        {
          "output_type": "stream",
          "name": "stdout",
          "text": [
            "데이터1 데이터2 데이터3\n"
          ]
        }
      ]
    },
    {
      "cell_type": "code",
      "source": [
        "print(\"데이터1\",\"데이터2\",\"데이터3\",sep=\"\")"
      ],
      "metadata": {
        "colab": {
          "base_uri": "https://localhost:8080/"
        },
        "id": "1N4Y9Wn9p_l4",
        "outputId": "9851326f-8dd9-44ba-b7da-28704e465d20"
      },
      "execution_count": null,
      "outputs": [
        {
          "output_type": "stream",
          "name": "stdout",
          "text": [
            "데이터1데이터2데이터3\n"
          ]
        }
      ]
    },
    {
      "cell_type": "code",
      "source": [
        "print(\"데이터1\",\"데이터2\",\"데이터3\",sep=\"\\n\",end=\"끝\")"
      ],
      "metadata": {
        "colab": {
          "base_uri": "https://localhost:8080/"
        },
        "id": "95g18z14qobY",
        "outputId": "e9628b88-c800-424c-e782-4d92560f22dc"
      },
      "execution_count": null,
      "outputs": [
        {
          "output_type": "stream",
          "name": "stdout",
          "text": [
            "데이터1\n",
            "데이터2\n",
            "데이터3끝"
          ]
        }
      ]
    },
    {
      "cell_type": "code",
      "source": [
        "print(전화번호1,전화번호2,전화번호3)\n",
        "# 010-2310-3085\\=[\n",
        "\n",
        "]"
      ],
      "metadata": {
        "colab": {
          "base_uri": "https://localhost:8080/",
          "height": 171
        },
        "id": "VLcIao-Yq9L_",
        "outputId": "8b03abfc-4781-48da-e427-2ca86940b3b6"
      },
      "execution_count": null,
      "outputs": [
        {
          "output_type": "error",
          "ename": "NameError",
          "evalue": "ignored",
          "traceback": [
            "\u001b[0;31m---------------------------------------------------------------------------\u001b[0m",
            "\u001b[0;31mNameError\u001b[0m                                 Traceback (most recent call last)",
            "\u001b[0;32m<ipython-input-31-a5704db2d253>\u001b[0m in \u001b[0;36m<module>\u001b[0;34m()\u001b[0m\n\u001b[0;32m----> 1\u001b[0;31m \u001b[0mprint\u001b[0m\u001b[0;34m(\u001b[0m\u001b[0m전화번호1\u001b[0m\u001b[0;34m,\u001b[0m\u001b[0m전화번호2\u001b[0m\u001b[0;34m,\u001b[0m\u001b[0m전화번호3\u001b[0m\u001b[0;34m)\u001b[0m\u001b[0;34m\u001b[0m\u001b[0;34m\u001b[0m\u001b[0m\n\u001b[0m",
            "\u001b[0;31mNameError\u001b[0m: name '전화번호1' is not defined"
          ]
        }
      ]
    },
    {
      "cell_type": "markdown",
      "source": [
        "# 변수"
      ],
      "metadata": {
        "id": "N2823bjjyph3"
      }
    },
    {
      "cell_type": "code",
      "source": [
        "이름 = \"최원범\""
      ],
      "metadata": {
        "id": "drRal40FrJfv"
      },
      "execution_count": null,
      "outputs": []
    },
    {
      "cell_type": "code",
      "source": [
        "print(이름)"
      ],
      "metadata": {
        "colab": {
          "base_uri": "https://localhost:8080/"
        },
        "id": "bCYEbU91ytxP",
        "outputId": "35f187b5-8ba9-43b3-a935-fd2c06d34bc7"
      },
      "execution_count": null,
      "outputs": [
        {
          "output_type": "stream",
          "name": "stdout",
          "text": [
            "최원범\n"
          ]
        }
      ]
    },
    {
      "cell_type": "code",
      "source": [
        "반 = 6"
      ],
      "metadata": {
        "id": "z2z3QnVxy3mj"
      },
      "execution_count": null,
      "outputs": []
    },
    {
      "cell_type": "code",
      "source": [
        "print(반)"
      ],
      "metadata": {
        "colab": {
          "base_uri": "https://localhost:8080/"
        },
        "id": "u4RhVXbQzH7q",
        "outputId": "8d9c9933-eda5-402d-cdde-c774c7c0eeb4"
      },
      "execution_count": null,
      "outputs": [
        {
          "output_type": "stream",
          "name": "stdout",
          "text": [
            "6\n"
          ]
        }
      ]
    },
    {
      "cell_type": "code",
      "source": [
        "반_데이터타입 = type(반)\n",
        "print(반_데이터타입)"
      ],
      "metadata": {
        "colab": {
          "base_uri": "https://localhost:8080/"
        },
        "id": "1F3j1r2QzI2L",
        "outputId": "63269aa7-cbbe-4854-e241-890efffe5af4"
      },
      "execution_count": null,
      "outputs": [
        {
          "output_type": "stream",
          "name": "stdout",
          "text": [
            "<class 'int'>\n"
          ]
        }
      ]
    },
    {
      "cell_type": "code",
      "source": [
        "이름_데이터타입 = type(이름)\n",
        "print(이름_데이터타입)"
      ],
      "metadata": {
        "colab": {
          "base_uri": "https://localhost:8080/"
        },
        "id": "JRO6k5IJzUDX",
        "outputId": "ab3c6ab1-2d8b-4fd2-a100-aaae99b43bd5"
      },
      "execution_count": null,
      "outputs": [
        {
          "output_type": "stream",
          "name": "stdout",
          "text": [
            "<class 'str'>\n"
          ]
        }
      ]
    },
    {
      "cell_type": "code",
      "source": [
        "소수 = 0.5\n",
        "소수_데이터타입 = type(소수)\n",
        "print(소수_데이터타입)"
      ],
      "metadata": {
        "colab": {
          "base_uri": "https://localhost:8080/"
        },
        "id": "kkbbv09jzvLC",
        "outputId": "4a01aa0c-bba9-40f1-9ea6-234681507725"
      },
      "execution_count": null,
      "outputs": [
        {
          "output_type": "stream",
          "name": "stdout",
          "text": [
            "<class 'float'>\n"
          ]
        }
      ]
    },
    {
      "cell_type": "code",
      "source": [
        "print(0b10)"
      ],
      "metadata": {
        "colab": {
          "base_uri": "https://localhost:8080/"
        },
        "id": "YqqqDLwZz3zh",
        "outputId": "0dffede4-18be-4735-d9aa-5c8a71808426"
      },
      "execution_count": null,
      "outputs": [
        {
          "output_type": "stream",
          "name": "stdout",
          "text": [
            "2\n"
          ]
        }
      ]
    },
    {
      "cell_type": "code",
      "source": [
        "print(0o10)"
      ],
      "metadata": {
        "colab": {
          "base_uri": "https://localhost:8080/"
        },
        "id": "3JEFGRru0pMA",
        "outputId": "0869ecec-9032-4549-f6ed-11c83d80d572"
      },
      "execution_count": null,
      "outputs": [
        {
          "output_type": "stream",
          "name": "stdout",
          "text": [
            "8\n"
          ]
        }
      ]
    },
    {
      "cell_type": "code",
      "source": [
        "print(0xb)"
      ],
      "metadata": {
        "colab": {
          "base_uri": "https://localhost:8080/"
        },
        "id": "tlkTMFns0tMw",
        "outputId": "679cb96d-26c2-4500-ed82-4ccbd77c5a85"
      },
      "execution_count": null,
      "outputs": [
        {
          "output_type": "stream",
          "name": "stdout",
          "text": [
            "11\n"
          ]
        }
      ]
    },
    {
      "cell_type": "code",
      "source": [
        "print(10 + 5) # 더하기연산\n",
        "print(10 - 5) # 빼기연산\n",
        "print(10 / 2) # 나누기\n",
        "print(10 * 2) # 곱하기"
      ],
      "metadata": {
        "colab": {
          "base_uri": "https://localhost:8080/"
        },
        "id": "62B-ecy60u4y",
        "outputId": "87bc0769-0ad4-40c3-ec93-0eeb1c9af9ad"
      },
      "execution_count": null,
      "outputs": [
        {
          "output_type": "stream",
          "name": "stdout",
          "text": [
            "15\n",
            "5\n",
            "5.0\n",
            "20\n"
          ]
        }
      ]
    },
    {
      "cell_type": "code",
      "source": [
        "print(2**3) # 제곱"
      ],
      "metadata": {
        "colab": {
          "base_uri": "https://localhost:8080/"
        },
        "id": "j49IOyAS1TlQ",
        "outputId": "14f053b1-e4a2-4e7c-c464-b4f38eafb5f1"
      },
      "execution_count": null,
      "outputs": [
        {
          "output_type": "stream",
          "name": "stdout",
          "text": [
            "8\n"
          ]
        }
      ]
    },
    {
      "cell_type": "code",
      "source": [
        "print(15%10) # 나머지"
      ],
      "metadata": {
        "colab": {
          "base_uri": "https://localhost:8080/"
        },
        "id": "ouUAl7Xc1ozN",
        "outputId": "f1c9e6d0-adf0-494c-89cd-a53f6129ae01"
      },
      "execution_count": null,
      "outputs": [
        {
          "output_type": "stream",
          "name": "stdout",
          "text": [
            "5\n"
          ]
        }
      ]
    },
    {
      "cell_type": "code",
      "source": [
        "print(15//10) # 나누기 몫"
      ],
      "metadata": {
        "colab": {
          "base_uri": "https://localhost:8080/"
        },
        "id": "dFk3ADnq1zWH",
        "outputId": "193a482e-afa3-4333-f4a0-2af70e1ef19d"
      },
      "execution_count": null,
      "outputs": [
        {
          "output_type": "stream",
          "name": "stdout",
          "text": [
            "1\n"
          ]
        }
      ]
    },
    {
      "cell_type": "markdown",
      "source": [
        "# 문자열"
      ],
      "metadata": {
        "id": "gvg_3STX2Dyu"
      }
    },
    {
      "cell_type": "code",
      "source": [
        "문자열 = \"문자열내용\"\n",
        "문자열2 = '문자열내용2'\n",
        "문자열3 = \"\"\"문자열내용3\"\"\"\n",
        "문자열4 = '''문자열내요4'''\n",
        "print(문자열)\n",
        "print(문자열2)\n",
        "print(문자열3)\n",
        "print(문자열4)"
      ],
      "metadata": {
        "colab": {
          "base_uri": "https://localhost:8080/"
        },
        "id": "EJUmUsVA185v",
        "outputId": "1d893d13-38f4-445e-b3ab-a6e5ed43832e"
      },
      "execution_count": null,
      "outputs": [
        {
          "output_type": "stream",
          "name": "stdout",
          "text": [
            "문자열내용\n",
            "문자열내용2\n",
            "문자열내용3\n",
            "문자열내요4\n"
          ]
        }
      ]
    },
    {
      "cell_type": "code",
      "source": [
        "문자열5 = \"\"\"아니\n",
        "이건\n",
        "여러줄이 된다고?\n",
        "\"\"\"\n",
        "print(문자열5)"
      ],
      "metadata": {
        "colab": {
          "base_uri": "https://localhost:8080/"
        },
        "id": "Yx92TMj22yWM",
        "outputId": "3d883ec7-555f-49d5-9327-a19fb61d56eb"
      },
      "execution_count": null,
      "outputs": [
        {
          "output_type": "stream",
          "name": "stdout",
          "text": [
            "아니\n",
            "이건\n",
            "여러줄이 된다고?\n",
            "\n"
          ]
        }
      ]
    },
    {
      "cell_type": "code",
      "source": [
        "print(문자열)\n",
        "print(문자열2)\n",
        "print(문자열+문자열2)"
      ],
      "metadata": {
        "colab": {
          "base_uri": "https://localhost:8080/"
        },
        "id": "znJcvJzx3D4i",
        "outputId": "4d63362e-1ff8-430a-c710-faf1379b826e"
      },
      "execution_count": null,
      "outputs": [
        {
          "output_type": "stream",
          "name": "stdout",
          "text": [
            "문자열내용\n",
            "문자열내용2\n",
            "문자열내용문자열내용2\n"
          ]
        }
      ]
    },
    {
      "cell_type": "code",
      "source": [
        "이름 = \"최원범\"\n",
        "인사 = \"안녕하세요\"\n",
        "print(인사+\" \"+\"저는 \"+이름+ \"입니다\")"
      ],
      "metadata": {
        "colab": {
          "base_uri": "https://localhost:8080/"
        },
        "id": "pj1z8zdp3cDz",
        "outputId": "e0391d4a-9c31-4485-b007-0fa31442e496"
      },
      "execution_count": null,
      "outputs": [
        {
          "output_type": "stream",
          "name": "stdout",
          "text": [
            "안녕하세요 저는 최원범입니다\n"
          ]
        }
      ]
    },
    {
      "cell_type": "code",
      "source": [
        "이름 = \"최원범\"\n",
        "인사 = \"안녕하세요\"\n",
        "인삿말 = 인사+\" \"+\"저는 \"+이름+ \"입니다\\n\"\n",
        "print(인삿말)"
      ],
      "metadata": {
        "colab": {
          "base_uri": "https://localhost:8080/"
        },
        "id": "pUF5m3Al3-Vt",
        "outputId": "c90369d7-1159-4493-9ced-aa65967493ee"
      },
      "execution_count": null,
      "outputs": [
        {
          "output_type": "stream",
          "name": "stdout",
          "text": [
            "안녕하세요 저는 최원범입니다\n",
            "\n"
          ]
        }
      ]
    },
    {
      "cell_type": "code",
      "source": [
        "print(인삿말*10)"
      ],
      "metadata": {
        "colab": {
          "base_uri": "https://localhost:8080/"
        },
        "id": "5XC72l8l4O7M",
        "outputId": "a3e32c91-da09-4967-e0c5-123a29094b8d"
      },
      "execution_count": null,
      "outputs": [
        {
          "output_type": "stream",
          "name": "stdout",
          "text": [
            "안녕하세요 저는 최원범입니다\n",
            "안녕하세요 저는 최원범입니다\n",
            "안녕하세요 저는 최원범입니다\n",
            "안녕하세요 저는 최원범입니다\n",
            "안녕하세요 저는 최원범입니다\n",
            "안녕하세요 저는 최원범입니다\n",
            "안녕하세요 저는 최원범입니다\n",
            "안녕하세요 저는 최원범입니다\n",
            "안녕하세요 저는 최원범입니다\n",
            "안녕하세요 저는 최원범입니다\n",
            "\n"
          ]
        }
      ]
    },
    {
      "cell_type": "code",
      "source": [
        "이름길이 = len(이름)\n",
        "print(이름)\n",
        "print(이름길이)"
      ],
      "metadata": {
        "colab": {
          "base_uri": "https://localhost:8080/"
        },
        "id": "o95aPJyz4Rzy",
        "outputId": "fd8e325a-3fa3-47e1-f1d4-b9828e3f9f36"
      },
      "execution_count": null,
      "outputs": [
        {
          "output_type": "stream",
          "name": "stdout",
          "text": [
            "최원범\n",
            "3\n"
          ]
        }
      ]
    },
    {
      "cell_type": "code",
      "source": [
        "len(100000)"
      ],
      "metadata": {
        "colab": {
          "base_uri": "https://localhost:8080/",
          "height": 171
        },
        "id": "Qhq9o_ZL4ro7",
        "outputId": "b68bd8d3-c048-4ad7-d71d-25293ddfe5de"
      },
      "execution_count": null,
      "outputs": [
        {
          "output_type": "error",
          "ename": "TypeError",
          "evalue": "ignored",
          "traceback": [
            "\u001b[0;31m---------------------------------------------------------------------------\u001b[0m",
            "\u001b[0;31mTypeError\u001b[0m                                 Traceback (most recent call last)",
            "\u001b[0;32m<ipython-input-74-569ca3aa5b1a>\u001b[0m in \u001b[0;36m<module>\u001b[0;34m()\u001b[0m\n\u001b[0;32m----> 1\u001b[0;31m \u001b[0mlen\u001b[0m\u001b[0;34m(\u001b[0m\u001b[0;36m100000\u001b[0m\u001b[0;34m)\u001b[0m\u001b[0;34m\u001b[0m\u001b[0;34m\u001b[0m\u001b[0m\n\u001b[0m",
            "\u001b[0;31mTypeError\u001b[0m: object of type 'int' has no len()"
          ]
        }
      ]
    },
    {
      "cell_type": "code",
      "source": [
        "print(type(이름길이))"
      ],
      "metadata": {
        "colab": {
          "base_uri": "https://localhost:8080/"
        },
        "id": "pKN1uaRF40IN",
        "outputId": "10b87882-7be4-42ba-fe24-455ba7263bd2"
      },
      "execution_count": null,
      "outputs": [
        {
          "output_type": "stream",
          "name": "stdout",
          "text": [
            "<class 'int'>\n"
          ]
        }
      ]
    },
    {
      "cell_type": "markdown",
      "source": [
        "# 리스트"
      ],
      "metadata": {
        "id": "DDMBJU-o85W5"
      }
    },
    {
      "cell_type": "code",
      "source": [
        "print([1,2,3,4,5]) #[자료,자료,자료]"
      ],
      "metadata": {
        "colab": {
          "base_uri": "https://localhost:8080/"
        },
        "id": "8U4qZCvw5LMw",
        "outputId": "42c0889a-8278-4be2-d443-2b8078212625"
      },
      "execution_count": null,
      "outputs": [
        {
          "output_type": "stream",
          "name": "stdout",
          "text": [
            "[1, 2, 3, 4, 5]\n"
          ]
        }
      ]
    },
    {
      "cell_type": "code",
      "source": [
        "배열 = [-1,10.2,\"이름\",[1,2,3]]\n",
        "print(배열)"
      ],
      "metadata": {
        "colab": {
          "base_uri": "https://localhost:8080/"
        },
        "id": "qqfEEpP59Av2",
        "outputId": "d1141311-4534-4211-ba8b-cc0c434bad5b"
      },
      "execution_count": null,
      "outputs": [
        {
          "output_type": "stream",
          "name": "stdout",
          "text": [
            "[-1, 10.2, '이름', [1, 2, 3]]\n"
          ]
        }
      ]
    },
    {
      "cell_type": "code",
      "source": [
        "print(배열[0])\n",
        "print(배열[2])"
      ],
      "metadata": {
        "colab": {
          "base_uri": "https://localhost:8080/"
        },
        "id": "tRxpvrgN9YI5",
        "outputId": "e41adbc2-14e1-4071-efe8-55495fedfb8f"
      },
      "execution_count": null,
      "outputs": [
        {
          "output_type": "stream",
          "name": "stdout",
          "text": [
            "-1\n",
            "이름\n"
          ]
        }
      ]
    },
    {
      "cell_type": "code",
      "source": [
        "print(배열[3][1])"
      ],
      "metadata": {
        "colab": {
          "base_uri": "https://localhost:8080/"
        },
        "id": "WKrrUrL39iA_",
        "outputId": "d20d1bca-e385-4ff9-9145-d7c6caf84ece"
      },
      "execution_count": null,
      "outputs": [
        {
          "output_type": "stream",
          "name": "stdout",
          "text": [
            "2\n"
          ]
        }
      ]
    },
    {
      "cell_type": "code",
      "source": [
        "print(배열[len(배열)-1]) # 마지막값 꺼내기"
      ],
      "metadata": {
        "colab": {
          "base_uri": "https://localhost:8080/"
        },
        "id": "TYyVMO4c93B6",
        "outputId": "9a84d7c6-e08f-4980-fd8f-cca11b89515c"
      },
      "execution_count": null,
      "outputs": [
        {
          "output_type": "stream",
          "name": "stdout",
          "text": [
            "[1, 2, 3]\n"
          ]
        }
      ]
    },
    {
      "cell_type": "code",
      "source": [
        "print(배열[-1]) # 마지막값 꺼내기"
      ],
      "metadata": {
        "colab": {
          "base_uri": "https://localhost:8080/"
        },
        "id": "HiOS-ysG-ZOH",
        "outputId": "3731cd7f-8abe-43cc-cd13-be57c4538a8e"
      },
      "execution_count": null,
      "outputs": [
        {
          "output_type": "stream",
          "name": "stdout",
          "text": [
            "[1, 2, 3]\n"
          ]
        }
      ]
    },
    {
      "cell_type": "code",
      "source": [
        "print(배열)"
      ],
      "metadata": {
        "colab": {
          "base_uri": "https://localhost:8080/"
        },
        "id": "xUSoKgaa-jrP",
        "outputId": "a37dd05f-d38e-4a0e-f32f-cb6e9524945f"
      },
      "execution_count": null,
      "outputs": [
        {
          "output_type": "stream",
          "name": "stdout",
          "text": [
            "[-1, 10.2, '이름', [1, 2, 3]]\n"
          ]
        }
      ]
    },
    {
      "cell_type": "code",
      "source": [
        "print(배열[1:3])#1번째부터 3번째이전까지"
      ],
      "metadata": {
        "colab": {
          "base_uri": "https://localhost:8080/"
        },
        "id": "2dObWGkD-t9k",
        "outputId": "8f5e0651-0091-40f2-fdd1-956484d3cfbd"
      },
      "execution_count": null,
      "outputs": [
        {
          "output_type": "stream",
          "name": "stdout",
          "text": [
            "[10.2, '이름']\n"
          ]
        }
      ]
    },
    {
      "cell_type": "code",
      "source": [
        "배열[-1] = 10\n",
        "print(배열)"
      ],
      "metadata": {
        "colab": {
          "base_uri": "https://localhost:8080/"
        },
        "id": "HwVz1DSJ-28c",
        "outputId": "082eef4e-23f4-48fe-8051-01034be9f0c7"
      },
      "execution_count": null,
      "outputs": [
        {
          "output_type": "stream",
          "name": "stdout",
          "text": [
            "[-1, 10.2, '이름', 10]\n"
          ]
        }
      ]
    },
    {
      "cell_type": "code",
      "source": [
        "배열[:][-1] = [1,2,3]\n",
        "print(배열)"
      ],
      "metadata": {
        "colab": {
          "base_uri": "https://localhost:8080/"
        },
        "id": "WiZD4dk2_Mst",
        "outputId": "ee1cd2a6-ffb9-4719-ddd3-255a498f03d5"
      },
      "execution_count": null,
      "outputs": [
        {
          "output_type": "stream",
          "name": "stdout",
          "text": [
            "[-1, 10.2, '이름', 10]\n"
          ]
        }
      ]
    },
    {
      "cell_type": "code",
      "source": [
        "print(\"12312\",\"123123\")"
      ],
      "metadata": {
        "colab": {
          "base_uri": "https://localhost:8080/"
        },
        "id": "c3qgQ3B0_dHe",
        "outputId": "342316e1-cc4f-443d-aa11-30a1070b4751"
      },
      "execution_count": null,
      "outputs": [
        {
          "output_type": "stream",
          "name": "stdout",
          "text": [
            "12312 123123\n"
          ]
        }
      ]
    },
    {
      "cell_type": "markdown",
      "source": [
        "# 문제"
      ],
      "metadata": {
        "id": "vkp41PFUFR8_"
      }
    },
    {
      "cell_type": "code",
      "source": [
        "문제 = \"01033334444\"\n",
        "print(문제[:-4])\n",
        "앞번호 = 문제[:-4]\n",
        "별 = len(앞번호)*\"*\"\n",
        "뒷번호 = 문제[-4:]\n",
        "print(앞번호+뒷번호)\n",
        "print(별+뒷번호)\n",
        "정답 = 별 + 뒷번호"
      ],
      "metadata": {
        "colab": {
          "base_uri": "https://localhost:8080/"
        },
        "id": "Ol-2adJEFPgC",
        "outputId": "f64eb6c4-4a3a-461b-e98c-301c110a1555"
      },
      "execution_count": null,
      "outputs": [
        {
          "output_type": "stream",
          "name": "stdout",
          "text": [
            "0103333\n",
            "01033334444\n",
            "*******4444\n"
          ]
        }
      ]
    },
    {
      "cell_type": "code",
      "source": [
        "print(문제[-4:])"
      ],
      "metadata": {
        "colab": {
          "base_uri": "https://localhost:8080/"
        },
        "id": "ogrtcU0xFZpH",
        "outputId": "b0d11d1c-2147-4ca5-c12e-ec081f61a6db"
      },
      "execution_count": null,
      "outputs": [
        {
          "output_type": "stream",
          "name": "stdout",
          "text": [
            "4444\n"
          ]
        }
      ]
    },
    {
      "cell_type": "code",
      "source": [
        ""
      ],
      "metadata": {
        "id": "VaRAF88KGJ57"
      },
      "execution_count": null,
      "outputs": []
    }
  ]
}